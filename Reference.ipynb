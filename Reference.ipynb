{
 "cells": [
  {
   "cell_type": "code",
   "execution_count": 1,
   "id": "c4355a81",
   "metadata": {},
   "outputs": [
    {
     "name": "stdout",
     "output_type": "stream",
     "text": [
      "Set parameter Username\n",
      "Academic license - for non-commercial use only - expires 2023-06-11\n"
     ]
    }
   ],
   "source": [
    "from gurobipy import *\n",
    "m = Model('Lp')"
   ]
  },
  {
   "cell_type": "code",
   "execution_count": 2,
   "id": "62e196d1",
   "metadata": {},
   "outputs": [
    {
     "name": "stdout",
     "output_type": "stream",
     "text": [
      "[<gurobi.Var *Awaiting Model Update*>, <gurobi.Var *Awaiting Model Update*>, <gurobi.Var *Awaiting Model Update*>]\n"
     ]
    }
   ],
   "source": [
    "x = []\n",
    "x.append(m.addVar(name = \"x[0]\",vtype =GRB.CONTINUOUS,lb = 0)) \n",
    "x.append(m.addVar(name = \"x[1]\",vtype =GRB.CONTINUOUS,lb = 0)) \n",
    "x.append(m.addVar(name = \"x[2]\",vtype =GRB.CONTINUOUS,lb = 0)) \n",
    "print(x)"
   ]
  },
  {
   "cell_type": "code",
   "execution_count": 3,
   "id": "c4af9607",
   "metadata": {},
   "outputs": [],
   "source": [
    "obj = 5*x[0] + 4*x[1]\n",
    "m.setObjective(obj,GRB.MINIMIZE)"
   ]
  },
  {
   "cell_type": "code",
   "execution_count": 4,
   "id": "3740a9e4",
   "metadata": {},
   "outputs": [
    {
     "data": {
      "text/plain": [
       "<gurobi.Constr *Awaiting Model Update*>"
      ]
     },
     "execution_count": 4,
     "metadata": {},
     "output_type": "execute_result"
    }
   ],
   "source": [
    "l=[]\n",
    "for i in range(2):\n",
    "    l.append(x[i])\n",
    "m.addConstr(sum(l)>=8)\n",
    "\n",
    "# m.addConstr((sum(l)>= 8  ))\n",
    "# m.addConstr((x[0] == 3  ))\n",
    "m.addConstr((2*x[0]+x[1] >= 10 ))\n",
    "m.addConstr((x[0] + 4*x[1] >=11 ))\n"
   ]
  },
  {
   "cell_type": "code",
   "execution_count": 5,
   "id": "46dfc475",
   "metadata": {},
   "outputs": [
    {
     "name": "stdout",
     "output_type": "stream",
     "text": [
      "Gurobi Optimizer version 9.5.1 build v9.5.1rc2 (win64)\n",
      "Thread count: 2 physical cores, 4 logical processors, using up to 4 threads\n",
      "Optimize a model with 3 rows, 3 columns and 6 nonzeros\n",
      "Model fingerprint: 0x3307996a\n",
      "Coefficient statistics:\n",
      "  Matrix range     [1e+00, 4e+00]\n",
      "  Objective range  [4e+00, 5e+00]\n",
      "  Bounds range     [0e+00, 0e+00]\n",
      "  RHS range        [8e+00, 1e+01]\n",
      "Presolve removed 0 rows and 1 columns\n",
      "Presolve time: 0.16s\n",
      "Presolved: 3 rows, 2 columns, 6 nonzeros\n",
      "\n",
      "Iteration    Objective       Primal Inf.    Dual Inf.      Time\n",
      "       0    0.0000000e+00   1.850000e+01   0.000000e+00      0s\n",
      "       2    3.4000000e+01   0.000000e+00   0.000000e+00      0s\n",
      "\n",
      "Solved in 2 iterations and 0.22 seconds (0.00 work units)\n",
      "Optimal objective  3.400000000e+01\n"
     ]
    }
   ],
   "source": [
    "m.optimize() # solve the model\n"
   ]
  },
  {
   "cell_type": "code",
   "execution_count": 6,
   "id": "479dc7a4",
   "metadata": {},
   "outputs": [
    {
     "name": "stdout",
     "output_type": "stream",
     "text": [
      "objective value :  34.0\n",
      "x[0]: 2\n",
      "x[1]: 6\n",
      "x[2]: 0\n"
     ]
    }
   ],
   "source": [
    "print(\"objective value : \",m.objVal)\n",
    "\n",
    "for v in m.getVars():\n",
    "    print('%s: %g' % (v.varName,v.x))\n",
    "\n"
   ]
  },
  {
   "cell_type": "code",
   "execution_count": 7,
   "id": "8699edd0",
   "metadata": {},
   "outputs": [
    {
     "name": "stdout",
     "output_type": "stream",
     "text": [
      "Minimize\n",
      "  <gurobi.LinExpr: 5.0 x[0] + 4.0 x[1]>\n",
      "Subject To\n",
      "  R0: <gurobi.LinExpr: x[0] + x[1]> >= 8\n",
      "  R1: <gurobi.LinExpr: 2.0 x[0] + x[1]> >= 10\n",
      "  R2: <gurobi.LinExpr: x[0] + 4.0 x[1]> >= 11\n",
      "None\n"
     ]
    }
   ],
   "source": [
    "print (m.display())"
   ]
  },
  {
   "cell_type": "code",
   "execution_count": null,
   "id": "9a8a9e75",
   "metadata": {},
   "outputs": [],
   "source": []
  }
 ],
 "metadata": {
  "kernelspec": {
   "display_name": "Python 3 (ipykernel)",
   "language": "python",
   "name": "python3"
  },
  "language_info": {
   "codemirror_mode": {
    "name": "ipython",
    "version": 3
   },
   "file_extension": ".py",
   "mimetype": "text/x-python",
   "name": "python",
   "nbconvert_exporter": "python",
   "pygments_lexer": "ipython3",
   "version": "3.9.12"
  }
 },
 "nbformat": 4,
 "nbformat_minor": 5
}
